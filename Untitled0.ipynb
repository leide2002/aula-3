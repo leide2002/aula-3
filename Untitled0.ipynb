{
  "nbformat": 4,
  "nbformat_minor": 0,
  "metadata": {
    "colab": {
      "provenance": [],
      "authorship_tag": "ABX9TyN4fjxMYCP+jFXSvXCaU04c",
      "include_colab_link": true
    },
    "kernelspec": {
      "name": "python3",
      "display_name": "Python 3"
    },
    "language_info": {
      "name": "python"
    }
  },
  "cells": [
    {
      "cell_type": "markdown",
      "metadata": {
        "id": "view-in-github",
        "colab_type": "text"
      },
      "source": [
        "<a href=\"https://colab.research.google.com/github/leide2002/aula-3/blob/master/Untitled0.ipynb\" target=\"_parent\"><img src=\"https://colab.research.google.com/assets/colab-badge.svg\" alt=\"Open In Colab\"/></a>"
      ]
    },
    {
      "cell_type": "code",
      "execution_count": null,
      "metadata": {
        "id": "tZdsmwBic_CF",
        "collapsed": true
      },
      "outputs": [],
      "source": [
        "idade = float(input(\"idade:\"))\n",
        "\n",
        "if idade >= 18:\n",
        "  print(\"voce e maior de idade:\")\n",
        "\n",
        "else:\n",
        "  print(\"voce e menor de idade:\")\n",
        "\n",
        ""
      ]
    },
    {
      "cell_type": "code",
      "source": [],
      "metadata": {
        "id": "TC14akm5unTs"
      },
      "execution_count": null,
      "outputs": []
    },
    {
      "cell_type": "markdown",
      "source": [],
      "metadata": {
        "id": "dXSVsraKunj2"
      }
    },
    {
      "source": [
        "impar= float (input(\"numero impar:\"))\n",
        "par = float(input(\"numero par\"))\n",
        "\n",
        "if par % 2 == 0 :\n",
        "    print (\"par\")\n",
        "\n",
        "else:\n",
        "    print (\"impar\")"
      ],
      "cell_type": "code",
      "metadata": {
        "colab": {
          "base_uri": "https://localhost:8080/"
        },
        "id": "dzemN3BISJcN",
        "outputId": "8d8072f0-7235-4c96-a468-6acedc48cda1"
      },
      "execution_count": 14,
      "outputs": [
        {
          "output_type": "stream",
          "name": "stdout",
          "text": [
            "numero impar:4\n",
            "numero par2\n",
            "par\n"
          ]
        }
      ]
    },
    {
      "cell_type": "code",
      "source": [
        "nota1 = float (input (\"not 1:\"))\n",
        "nota2 = float (input(\"nota 2:\"))\n",
        "nota3 = float (input(\"nota 3:\"))\n",
        "if nota >= 7:\n",
        "  print (\"aprovado\")\n",
        "elif nota < 7 and nota >=5:\n",
        "    print (\"recuperação\")\n",
        "els :\n",
        "    print (\"reprovado\")\n",
        ""
      ],
      "metadata": {
        "colab": {
          "base_uri": "https://localhost:8080/"
        },
        "id": "GZTlDtbGSavV",
        "outputId": "3e4c901a-9c7c-4b1b-a4f4-1a5d740a766c"
      },
      "execution_count": 19,
      "outputs": [
        {
          "output_type": "stream",
          "name": "stdout",
          "text": [
            "not 1:6\n",
            "nota 2:5\n",
            "nota 3:1\n",
            "recuperação\n"
          ]
        }
      ]
    },
    {
      "cell_type": "code",
      "source": [],
      "metadata": {
        "id": "LpuCptWkXFIW"
      },
      "execution_count": null,
      "outputs": []
    },
    {
      "source": [
        "compra = int(input (\"valor da compra:\"))\n",
        "\n",
        "if compra >= 100:\n",
        "    print (\"desconto de 10%\")\n",
        "else: #removed extra spaces before the else keyword\n",
        "    print (\"valor final 100$\")"
      ],
      "cell_type": "code",
      "metadata": {
        "colab": {
          "base_uri": "https://localhost:8080/"
        },
        "id": "ivWsBuAWsh56",
        "outputId": "ea092034-c174-45f3-d0ae-64a5b1fec74c"
      },
      "execution_count": 34,
      "outputs": [
        {
          "output_type": "stream",
          "name": "stdout",
          "text": [
            "valor da compra:600\n",
            "desconto de 10%\n"
          ]
        }
      ]
    },
    {
      "source": [
        "primeira = float (input(\"idade1\"))\n",
        "segunda = float (input(\"idade2\"))\n",
        "\n",
        "if primeira > segunda:\n",
        "  print (\"primeira pessoa e mais velha\")\n"
      ],
      "cell_type": "code",
      "metadata": {
        "colab": {
          "base_uri": "https://localhost:8080/"
        },
        "id": "Ss68TLntrZzS",
        "outputId": "183e5c96-05f9-4eed-8503-a788f5ea5486"
      },
      "execution_count": 35,
      "outputs": [
        {
          "name": "stdout",
          "output_type": "stream",
          "text": [
            "idade11\n",
            "idade22\n"
          ]
        }
      ]
    }
  ]
}