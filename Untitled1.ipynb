{
  "nbformat": 4,
  "nbformat_minor": 0,
  "metadata": {
    "colab": {
      "provenance": [],
      "toc_visible": true,
      "authorship_tag": "ABX9TyO+0UJhGM75zNge2tzsnB4g",
      "include_colab_link": true
    },
    "kernelspec": {
      "name": "python3",
      "display_name": "Python 3"
    },
    "language_info": {
      "name": "python"
    }
  },
  "cells": [
    {
      "cell_type": "markdown",
      "metadata": {
        "id": "view-in-github",
        "colab_type": "text"
      },
      "source": [
        "<a href=\"https://colab.research.google.com/github/leide2002/aula-3/blob/master/Untitled1.ipynb\" target=\"_parent\"><img src=\"https://colab.research.google.com/assets/colab-badge.svg\" alt=\"Open In Colab\"/></a>"
      ]
    },
    {
      "source": [
        "hora01= int (input(\"primeira entrada:\"))\n",
        "hora02= int (input(\"segunda entrada:\"))\n",
        "minut1= int(input (\"seg1:\"))\n",
        "minut2= int(input(\"seg2:\"))\n",
        "\n",
        "somahora= hora01 + hora02\n",
        "\n",
        "\n",
        "somaminut= minut1 + minut2\n",
        "\n",
        "if somahora >= 24:\n",
        "\n",
        "    somahora = somahora - 24\n",
        "\n",
        "if somahora >=12:\n",
        "    somahora = somahora - 12\n",
        "\n",
        "\n",
        "if somaminut >= 60:\n",
        "    somaminut = somaminut - 60\n",
        "    somahora = somahora + 1\n",
        "\n",
        "print (f\"{somahora} {somaminut}:\")"
      ],
      "cell_type": "code",
      "metadata": {
        "colab": {
          "base_uri": "https://localhost:8080/"
        },
        "id": "mbjxRWrS7D3H",
        "outputId": "9dd67084-1940-4dd3-e1d8-dda5fdd67b21"
      },
      "execution_count": 59,
      "outputs": [
        {
          "output_type": "stream",
          "name": "stdout",
          "text": [
            "primeira entrada:3\n",
            "segunda entrada:14\n",
            "seg1:45\n",
            "seg2:20\n",
            "6 5:\n"
          ]
        }
      ]
    },
    {
      "cell_type": "code",
      "source": [],
      "metadata": {
        "id": "TtKHRNSn8p6Z"
      },
      "execution_count": null,
      "outputs": []
    }
  ]
}